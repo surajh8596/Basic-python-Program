{
 "cells": [
  {
   "cell_type": "code",
   "execution_count": null,
   "id": "7cd3f27a",
   "metadata": {},
   "outputs": [],
   "source": [
    "a=90\n",
    "b=100\n",
    "c=a+b"
   ]
  },
  {
   "cell_type": "code",
   "execution_count": 7,
   "id": "c30de030",
   "metadata": {},
   "outputs": [
    {
     "data": {
      "text/plain": [
       "190"
      ]
     },
     "execution_count": 7,
     "metadata": {},
     "output_type": "execute_result"
    }
   ],
   "source": [
    "c"
   ]
  },
  {
   "cell_type": "code",
   "execution_count": 12,
   "id": "2cb33bf2",
   "metadata": {},
   "outputs": [
    {
     "name": "stdout",
     "output_type": "stream",
     "text": [
      "Enter yor first digit here=>33\n",
      "Enter yor second digit here=>44\n",
      "My result is=> 77\n"
     ]
    }
   ],
   "source": [
    "a=int(input(\"Enter yor first digit here=>\"))\n",
    "b=int(input(\"Enter yor second digit here=>\"))\n",
    "c=a+b\n",
    "print(\"My result is=>\",c)"
   ]
  },
  {
   "cell_type": "code",
   "execution_count": 13,
   "id": "172baf13",
   "metadata": {
    "scrolled": true
   },
   "outputs": [
    {
     "name": "stdout",
     "output_type": "stream",
     "text": [
      "Enter yor first digit here=>2.4\n",
      "Enter yor second digit here=>12\n",
      "My result is=> 14.4\n"
     ]
    }
   ],
   "source": [
    "a=float(input(\"Enter yor first digit here=>\"))\n",
    "b=int(input(\"Enter yor second digit here=>\"))\n",
    "c=a+b\n",
    "print(\"My result is=>\",c)"
   ]
  },
  {
   "cell_type": "code",
   "execution_count": 14,
   "id": "d499961c",
   "metadata": {},
   "outputs": [
    {
     "name": "stdout",
     "output_type": "stream",
     "text": [
      "Enter yor first digit here=>12\n",
      "Enter yor second digit here=>21\n",
      "My result is=> 33.0\n"
     ]
    }
   ],
   "source": [
    "a=float(input(\"Enter yor first digit here=>\"))\n",
    "b=float(input(\"Enter yor second digit here=>\"))\n",
    "c=a+b\n",
    "print(\"My result is=>\",c)"
   ]
  },
  {
   "cell_type": "code",
   "execution_count": 15,
   "id": "ae8cd258",
   "metadata": {},
   "outputs": [
    {
     "name": "stdout",
     "output_type": "stream",
     "text": [
      "Enter yor first digit here=>12\n",
      "Enter yor second digit here=>23\n",
      "Enter yor third digit here=>11\n",
      "My result is=> 46\n"
     ]
    }
   ],
   "source": [
    "a=int(input(\"Enter yor first digit here=>\"))\n",
    "b=int(input(\"Enter yor second digit here=>\"))\n",
    "c=int(input(\"Enter yor third digit here=>\"))\n",
    "d=a+b+c\n",
    "print(\"My result is=>\",d)"
   ]
  },
  {
   "cell_type": "code",
   "execution_count": 16,
   "id": "0ff6a607",
   "metadata": {},
   "outputs": [
    {
     "name": "stdout",
     "output_type": "stream",
     "text": [
      "Enter yor first digit here=>12.4\n",
      "Enter yor second digit here=>12\n",
      "Enter yor third digit here=>21.3\n",
      "My result is=> 45.7\n"
     ]
    }
   ],
   "source": [
    "a=float(input(\"Enter yor first digit here=>\"))\n",
    "b=int(input(\"Enter yor second digit here=>\"))\n",
    "c=float(input(\"Enter yor third digit here=>\"))\n",
    "d=a+b+c\n",
    "print(\"My result is=>\",d)"
   ]
  },
  {
   "cell_type": "code",
   "execution_count": 19,
   "id": "3286a27f",
   "metadata": {},
   "outputs": [
    {
     "name": "stdout",
     "output_type": "stream",
     "text": [
      "Enter height value=>12\n",
      "Enter base value=>10\n",
      "Area=> 120\n"
     ]
    }
   ],
   "source": [
    "h=int(input(\"Enter height value=>\"))\n",
    "b=int(input(\"Enter base value=>\"))\n",
    "a=h*b\n",
    "print(\"Area=>\",a)"
   ]
  },
  {
   "cell_type": "code",
   "execution_count": 43,
   "id": "4879296d",
   "metadata": {
    "scrolled": true
   },
   "outputs": [
    {
     "name": "stdout",
     "output_type": "stream",
     "text": [
      "a is= 20 b is= 10\n"
     ]
    }
   ],
   "source": [
    "a=10\n",
    "b=20\n",
    "c=a\n",
    "a=b\n",
    "b=c\n",
    "print(\"a is=\",a,\"b is=\",b)"
   ]
  },
  {
   "cell_type": "code",
   "execution_count": 44,
   "id": "1afe0271",
   "metadata": {},
   "outputs": [],
   "source": [
    "a=10\n",
    "b=20\n",
    "a,b=b,a"
   ]
  },
  {
   "cell_type": "code",
   "execution_count": 45,
   "id": "850511e7",
   "metadata": {},
   "outputs": [
    {
     "name": "stdout",
     "output_type": "stream",
     "text": [
      "a is= 20 b is= 10\n"
     ]
    }
   ],
   "source": [
    "print(\"a is=\",a,\"b is=\",b)"
   ]
  },
  {
   "cell_type": "code",
   "execution_count": 46,
   "id": "ae5a1d0c",
   "metadata": {},
   "outputs": [],
   "source": [
    "q,w=10,20"
   ]
  },
  {
   "cell_type": "code",
   "execution_count": 47,
   "id": "cd60b4ab",
   "metadata": {},
   "outputs": [
    {
     "data": {
      "text/plain": [
       "10"
      ]
     },
     "execution_count": 47,
     "metadata": {},
     "output_type": "execute_result"
    }
   ],
   "source": [
    "q"
   ]
  },
  {
   "cell_type": "code",
   "execution_count": 48,
   "id": "3f0b5475",
   "metadata": {},
   "outputs": [
    {
     "data": {
      "text/plain": [
       "20"
      ]
     },
     "execution_count": 48,
     "metadata": {},
     "output_type": "execute_result"
    }
   ],
   "source": [
    "w"
   ]
  },
  {
   "cell_type": "code",
   "execution_count": 49,
   "id": "d71c3ef4",
   "metadata": {},
   "outputs": [],
   "source": [
    "a=b=90"
   ]
  },
  {
   "cell_type": "code",
   "execution_count": 50,
   "id": "290d9592",
   "metadata": {},
   "outputs": [
    {
     "data": {
      "text/plain": [
       "90"
      ]
     },
     "execution_count": 50,
     "metadata": {},
     "output_type": "execute_result"
    }
   ],
   "source": [
    "a"
   ]
  },
  {
   "cell_type": "code",
   "execution_count": 51,
   "id": "e8393fb8",
   "metadata": {},
   "outputs": [
    {
     "data": {
      "text/plain": [
       "90"
      ]
     },
     "execution_count": 51,
     "metadata": {},
     "output_type": "execute_result"
    }
   ],
   "source": [
    "b"
   ]
  },
  {
   "cell_type": "code",
   "execution_count": 55,
   "id": "d04d7fb0",
   "metadata": {},
   "outputs": [
    {
     "name": "stdout",
     "output_type": "stream",
     "text": [
      "Adition of two numbers\n",
      "Enter yor first digit here=>12\n",
      "Enter yor second digit here=>22\n",
      "My result is=> 34\n"
     ]
    }
   ],
   "source": [
    "print(\"Adition of two numbers\")\n",
    "a=int(input(\"Enter yor first digit here=>\"))\n",
    "b=int(input(\"Enter yor second digit here=>\"))\n",
    "c=a+b\n",
    "print(\"My result is=>\",c)"
   ]
  }
 ],
 "metadata": {
  "kernelspec": {
   "display_name": "Python 3 (ipykernel)",
   "language": "python",
   "name": "python3"
  },
  "language_info": {
   "codemirror_mode": {
    "name": "ipython",
    "version": 3
   },
   "file_extension": ".py",
   "mimetype": "text/x-python",
   "name": "python",
   "nbconvert_exporter": "python",
   "pygments_lexer": "ipython3",
   "version": "3.9.7"
  }
 },
 "nbformat": 4,
 "nbformat_minor": 5
}
