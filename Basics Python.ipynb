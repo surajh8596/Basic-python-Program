{
 "cells": [
  {
   "cell_type": "markdown",
   "id": "4f61d73f",
   "metadata": {},
   "source": [
    "## variable"
   ]
  },
  {
   "cell_type": "markdown",
   "id": "993c0c31",
   "metadata": {},
   "source": [
    "variable is which can store something and is subjected to change"
   ]
  },
  {
   "cell_type": "code",
   "execution_count": null,
   "id": "b05fca29",
   "metadata": {},
   "outputs": [],
   "source": [
    "a= 10  ----> a is variable"
   ]
  },
  {
   "cell_type": "markdown",
   "id": "a7c1ed48",
   "metadata": {},
   "source": [
    "## Data types"
   ]
  },
  {
   "cell_type": "markdown",
   "id": "6ee83b8c",
   "metadata": {},
   "source": [
    "1. Numerical---> int,float,complex\n",
    "2. Char     ---> string\n",
    "3. Date     \n",
    "4. List\n",
    "5. Tuple\n",
    "6. Sets\n",
    "7. Dictionary"
   ]
  },
  {
   "cell_type": "markdown",
   "id": "9a7f0445",
   "metadata": {},
   "source": [
    "## list"
   ]
  },
  {
   "cell_type": "markdown",
   "id": "838e9236",
   "metadata": {},
   "source": [
    "list()\n",
    "x=[]\n",
    "mutable"
   ]
  },
  {
   "cell_type": "code",
   "execution_count": 7,
   "id": "7667b60b",
   "metadata": {},
   "outputs": [],
   "source": [
    "x=[1,2,3,'arjun',2.3,1+2j]"
   ]
  },
  {
   "cell_type": "code",
   "execution_count": 8,
   "id": "1e56ed9f",
   "metadata": {},
   "outputs": [
    {
     "data": {
      "text/plain": [
       "list"
      ]
     },
     "execution_count": 8,
     "metadata": {},
     "output_type": "execute_result"
    }
   ],
   "source": [
    "type(x)"
   ]
  },
  {
   "cell_type": "code",
   "execution_count": 11,
   "id": "5e6acf18",
   "metadata": {},
   "outputs": [
    {
     "data": {
      "text/plain": [
       "list"
      ]
     },
     "execution_count": 11,
     "metadata": {},
     "output_type": "execute_result"
    }
   ],
   "source": [
    "x=list()\n",
    "type(x)"
   ]
  },
  {
   "cell_type": "code",
   "execution_count": 16,
   "id": "41eea915",
   "metadata": {},
   "outputs": [],
   "source": [
    "y=list((10,20,'suraj',2.3,2+3j)) ---> typecasting"
   ]
  },
  {
   "cell_type": "code",
   "execution_count": 17,
   "id": "02aefcb7",
   "metadata": {},
   "outputs": [
    {
     "name": "stdout",
     "output_type": "stream",
     "text": [
      "[10, 20, 'suraj', 2.3, (2+3j)]\n"
     ]
    }
   ],
   "source": [
    "print(y)"
   ]
  },
  {
   "cell_type": "code",
   "execution_count": 18,
   "id": "087743f9",
   "metadata": {},
   "outputs": [
    {
     "data": {
      "text/plain": [
       "list"
      ]
     },
     "execution_count": 18,
     "metadata": {},
     "output_type": "execute_result"
    }
   ],
   "source": [
    "type(y)"
   ]
  },
  {
   "cell_type": "code",
   "execution_count": 19,
   "id": "01920035",
   "metadata": {},
   "outputs": [
    {
     "data": {
      "text/plain": [
       "['__add__',\n",
       " '__class__',\n",
       " '__class_getitem__',\n",
       " '__contains__',\n",
       " '__delattr__',\n",
       " '__delitem__',\n",
       " '__dir__',\n",
       " '__doc__',\n",
       " '__eq__',\n",
       " '__format__',\n",
       " '__ge__',\n",
       " '__getattribute__',\n",
       " '__getitem__',\n",
       " '__gt__',\n",
       " '__hash__',\n",
       " '__iadd__',\n",
       " '__imul__',\n",
       " '__init__',\n",
       " '__init_subclass__',\n",
       " '__iter__',\n",
       " '__le__',\n",
       " '__len__',\n",
       " '__lt__',\n",
       " '__mul__',\n",
       " '__ne__',\n",
       " '__new__',\n",
       " '__reduce__',\n",
       " '__reduce_ex__',\n",
       " '__repr__',\n",
       " '__reversed__',\n",
       " '__rmul__',\n",
       " '__setattr__',\n",
       " '__setitem__',\n",
       " '__sizeof__',\n",
       " '__str__',\n",
       " '__subclasshook__',\n",
       " 'append',\n",
       " 'clear',\n",
       " 'copy',\n",
       " 'count',\n",
       " 'extend',\n",
       " 'index',\n",
       " 'insert',\n",
       " 'pop',\n",
       " 'remove',\n",
       " 'reverse',\n",
       " 'sort']"
      ]
     },
     "execution_count": 19,
     "metadata": {},
     "output_type": "execute_result"
    }
   ],
   "source": [
    "dir(list)  --->directory"
   ]
  },
  {
   "cell_type": "code",
   "execution_count": 21,
   "id": "c78537a4",
   "metadata": {},
   "outputs": [],
   "source": [
    "x=[1,2,3,'arjun',2.3,1+2j]"
   ]
  },
  {
   "cell_type": "code",
   "execution_count": 22,
   "id": "eaecb68c",
   "metadata": {},
   "outputs": [
    {
     "data": {
      "text/plain": [
       "[1, 2, 3, 'arjun', 2.3, (1+2j)]"
      ]
     },
     "execution_count": 22,
     "metadata": {},
     "output_type": "execute_result"
    }
   ],
   "source": [
    "x"
   ]
  },
  {
   "cell_type": "code",
   "execution_count": 23,
   "id": "2d99a947",
   "metadata": {},
   "outputs": [],
   "source": [
    "x.append(22)"
   ]
  },
  {
   "cell_type": "code",
   "execution_count": 24,
   "id": "744a0801",
   "metadata": {},
   "outputs": [
    {
     "data": {
      "text/plain": [
       "[1, 2, 3, 'arjun', 2.3, (1+2j), 22]"
      ]
     },
     "execution_count": 24,
     "metadata": {},
     "output_type": "execute_result"
    }
   ],
   "source": [
    "x"
   ]
  },
  {
   "cell_type": "code",
   "execution_count": 27,
   "id": "f16db153",
   "metadata": {},
   "outputs": [
    {
     "data": {
      "text/plain": [
       "1"
      ]
     },
     "execution_count": 27,
     "metadata": {},
     "output_type": "execute_result"
    }
   ],
   "source": [
    "x.count(3)"
   ]
  },
  {
   "cell_type": "code",
   "execution_count": 30,
   "id": "0f2ca2b7",
   "metadata": {},
   "outputs": [],
   "source": [
    "x=[1,2,3,'arjun',2.3,1+2j] ---> 6 elements run 6 times"
   ]
  },
  {
   "cell_type": "code",
   "execution_count": 31,
   "id": "58f8d035",
   "metadata": {},
   "outputs": [
    {
     "name": "stdout",
     "output_type": "stream",
     "text": [
      "[1, 2, 3, 'arjun', 2.3, (1+2j)]\n",
      "[1, 2, 3, 'arjun', 2.3, (1+2j)]\n",
      "[1, 2, 3, 'arjun', 2.3, (1+2j)]\n",
      "[1, 2, 3, 'arjun', 2.3, (1+2j)]\n",
      "[1, 2, 3, 'arjun', 2.3, (1+2j)]\n",
      "[1, 2, 3, 'arjun', 2.3, (1+2j)]\n"
     ]
    }
   ],
   "source": [
    "for i in x:\n",
    "    print(x)"
   ]
  },
  {
   "cell_type": "code",
   "execution_count": 32,
   "id": "e042aad5",
   "metadata": {},
   "outputs": [
    {
     "name": "stdout",
     "output_type": "stream",
     "text": [
      "['apple', 'chiku', 'mango']\n",
      "['apple', 'chiku', 'mango']\n",
      "['apple', 'chiku', 'mango']\n"
     ]
    }
   ],
   "source": [
    "y=['apple', 'chiku', 'mango']\n",
    "for i in y:                    -----> 3 elements run 3 times\n",
    "    print(y)"
   ]
  },
  {
   "cell_type": "code",
   "execution_count": 34,
   "id": "406d6c51",
   "metadata": {},
   "outputs": [],
   "source": [
    "x=[1,2,3,'arjun',2.3,1+2j]"
   ]
  },
  {
   "cell_type": "code",
   "execution_count": 35,
   "id": "c567097a",
   "metadata": {},
   "outputs": [
    {
     "data": {
      "text/plain": [
       "[1, 2, 3, 'arjun', 2.3, (1+2j)]"
      ]
     },
     "execution_count": 35,
     "metadata": {},
     "output_type": "execute_result"
    }
   ],
   "source": [
    "x"
   ]
  },
  {
   "cell_type": "code",
   "execution_count": 36,
   "id": "defc3c17",
   "metadata": {},
   "outputs": [],
   "source": [
    "x.insert(1,10)"
   ]
  },
  {
   "cell_type": "code",
   "execution_count": 37,
   "id": "2c008671",
   "metadata": {},
   "outputs": [
    {
     "data": {
      "text/plain": [
       "[1, 10, 2, 3, 'arjun', 2.3, (1+2j)]"
      ]
     },
     "execution_count": 37,
     "metadata": {},
     "output_type": "execute_result"
    }
   ],
   "source": [
    "x"
   ]
  },
  {
   "cell_type": "code",
   "execution_count": null,
   "id": "02843c60",
   "metadata": {},
   "outputs": [],
   "source": []
  }
 ],
 "metadata": {
  "kernelspec": {
   "display_name": "Python 3 (ipykernel)",
   "language": "python",
   "name": "python3"
  },
  "language_info": {
   "codemirror_mode": {
    "name": "ipython",
    "version": 3
   },
   "file_extension": ".py",
   "mimetype": "text/x-python",
   "name": "python",
   "nbconvert_exporter": "python",
   "pygments_lexer": "ipython3",
   "version": "3.9.7"
  }
 },
 "nbformat": 4,
 "nbformat_minor": 5
}
