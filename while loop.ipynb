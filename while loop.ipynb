{
 "cells": [
  {
   "cell_type": "code",
   "execution_count": 5,
   "id": "e6e0799a",
   "metadata": {},
   "outputs": [
    {
     "name": "stdout",
     "output_type": "stream",
     "text": [
      "2\n",
      "4\n",
      "6\n",
      "8\n",
      "10\n",
      "12\n",
      "14\n",
      "16\n",
      "18\n",
      "20\n"
     ]
    }
   ],
   "source": [
    "num=2\n",
    "while num<=20:\n",
    "    print(num)\n",
    "    num=num+2"
   ]
  },
  {
   "cell_type": "code",
   "execution_count": 4,
   "id": "d0ceae78",
   "metadata": {},
   "outputs": [
    {
     "name": "stdout",
     "output_type": "stream",
     "text": [
      "1\n",
      "3\n",
      "5\n",
      "7\n",
      "9\n",
      "11\n",
      "13\n",
      "15\n",
      "17\n",
      "19\n"
     ]
    }
   ],
   "source": [
    "num=1\n",
    "while num<=20:\n",
    "    print(num)\n",
    "    num=num+2"
   ]
  },
  {
   "cell_type": "code",
   "execution_count": 3,
   "id": "c094b2c2",
   "metadata": {},
   "outputs": [
    {
     "name": "stdout",
     "output_type": "stream",
     "text": [
      "110\n"
     ]
    }
   ],
   "source": [
    "num=2\n",
    "sum=0\n",
    "while num<=20:\n",
    "    sum=sum+num\n",
    "    num=num+2\n",
    "print(sum)"
   ]
  },
  {
   "cell_type": "code",
   "execution_count": 17,
   "id": "50c361ac",
   "metadata": {},
   "outputs": [
    {
     "name": "stdout",
     "output_type": "stream",
     "text": [
      "Enter number = 30\n",
      "enter number to till you want the table to print10\n",
      "30 * 1 = 30\n",
      "30 * 2 = 60\n",
      "30 * 3 = 90\n",
      "30 * 4 = 120\n",
      "30 * 5 = 150\n",
      "30 * 6 = 180\n",
      "30 * 7 = 210\n",
      "30 * 8 = 240\n",
      "30 * 9 = 270\n",
      "30 * 10 = 300\n"
     ]
    }
   ],
   "source": [
    "n=1\n",
    "prod=10\n",
    "x=int(input(\"Enter number = \"))\n",
    "m=int(input(\"enter number to till you want the table to print\"))\n",
    "while n<=m:\n",
    "    prod=x*n\n",
    "    print(x,'*',n,'=',prod)\n",
    "    n=n+1"
   ]
  },
  {
   "cell_type": "code",
   "execution_count": 21,
   "id": "47cb2cfd",
   "metadata": {},
   "outputs": [
    {
     "name": "stdout",
     "output_type": "stream",
     "text": [
      "Enter first number  30\n",
      "Enter second number 10\n",
      "10\n",
      "12\n",
      "14\n",
      "16\n",
      "18\n",
      "20\n",
      "22\n",
      "24\n",
      "26\n",
      "28\n"
     ]
    }
   ],
   "source": [
    "num1=int(input(\"Enter first number  \"))\n",
    "num2=int(input(\"Enter second number \"))\n",
    "if num1>num2:\n",
    "    while(num1>num2):\n",
    "        if num2%2==0:\n",
    "            print(num2)\n",
    "        num2=num2+1\n",
    "else:\n",
    "    while(num1<num2):\n",
    "        if num1%2==0:\n",
    "            print(num1)\n",
    "        num1=num1+1"
   ]
  }
 ],
 "metadata": {
  "kernelspec": {
   "display_name": "Python 3 (ipykernel)",
   "language": "python",
   "name": "python3"
  },
  "language_info": {
   "codemirror_mode": {
    "name": "ipython",
    "version": 3
   },
   "file_extension": ".py",
   "mimetype": "text/x-python",
   "name": "python",
   "nbconvert_exporter": "python",
   "pygments_lexer": "ipython3",
   "version": "3.9.7"
  }
 },
 "nbformat": 4,
 "nbformat_minor": 5
}
