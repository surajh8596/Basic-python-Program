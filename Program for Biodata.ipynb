{
 "cells": [
  {
   "cell_type": "code",
   "execution_count": 20,
   "id": "1f79a96a",
   "metadata": {},
   "outputs": [
    {
     "name": "stdout",
     "output_type": "stream",
     "text": [
      "*********Bio-Data*********\n",
      "Name             >Suraj Honkamble\n",
      "Fathers name     >Ashok\n",
      "Mothers_name     >Anita\n",
      "Genger           >Male\n",
      "Date of birth    >8 May 1996\n",
      "Age              >25\n",
      "Nationality      >Indian\n",
      "Religion         >Hindu\n",
      "Education        >B.E in Electrical\n",
      "Job title        >Engineer at Athani Sugars pvt ltd\n",
      "Marital_status   >Single\n",
      "Blood group      >A+\n",
      "Height           >5'6\"\n",
      "Weight           >62Kg\n",
      "Language known   >Marathi, English, Kannada, Hindi\n",
      "Address          >#204 Shahapur road Shahapur 591242 \n",
      "Mobile_number    >+918722245836\n",
      "E-mail ID        >surajh8596@gmail.com\n",
      "Name               : Suraj Honkamble\n",
      "Fathers name       : Ashok\n",
      "Mothers name       : Anita\n",
      "Gender             : Male\n",
      "Date Of Birth      : 8 May 1996\n",
      "Age                : 25\n",
      "Nationality        : Indian\n",
      "religion           : Hindu\n",
      "Education          : B.E in Electrical\n",
      "Job title          : Engineer at Athani Sugars pvt ltd\n",
      "Marital status     : Single\n",
      "Blood group        : A+\n",
      "Height             : 5'6\"\n",
      "weight             : 62Kg\n",
      "Language Known     : Marathi, English, Kannada, Hindi\n",
      "Address            : #204 Shahapur road Shahapur 591242 \n",
      "Mobile number      : +918722245836\n",
      "E-mail addrees     : surajh8596@gmail.com\n"
     ]
    }
   ],
   "source": [
    "print(\"*********Bio-Data*********\")\n",
    "a=input(\"Name             >\")\n",
    "b=input(\"Fathers name     >\")\n",
    "c=input(\"Mothers_name     >\")\n",
    "d=input(\"Genger           >\")\n",
    "e=input(\"Date of birth    >\")\n",
    "f=input(\"Age              >\")\n",
    "g=input(\"Nationality      >\")\n",
    "h=input(\"Religion         >\")\n",
    "i=input(\"Education        >\")\n",
    "j=input(\"Job title        >\")\n",
    "k=input(\"Marital_status   >\")\n",
    "l=input(\"Blood group      >\")\n",
    "m=input(\"Height           >\")\n",
    "n=input(\"Weight           >\")\n",
    "o=input(\"Language known   >\")\n",
    "p=input(\"Address          >\")\n",
    "q=input(\"Mobile_number    >\")\n",
    "r=input(\"E-mail ID        >\")\n",
    "print('Name               :',a)\n",
    "print('Fathers name       :',b)\n",
    "print('Mothers name       :',c)\n",
    "print('Gender             :',d)\n",
    "print('Date Of Birth      :',e)\n",
    "print('Age                :',f)\n",
    "print('Nationality        :',g)\n",
    "print('religion           :',h)\n",
    "print('Education          :',i)\n",
    "print('Job title          :',j)\n",
    "print('Marital status     :',k)\n",
    "print('Blood group        :',l)\n",
    "print('Height             :',m)\n",
    "print('weight             :',n)\n",
    "print('Language Known     :',o)\n",
    "print('Address            :',p)\n",
    "print('Mobile number      :',q)\n",
    "print('E-mail addrees     :',r)"
   ]
  },
  {
   "cell_type": "code",
   "execution_count": null,
   "id": "7ded8522",
   "metadata": {},
   "outputs": [],
   "source": []
  }
 ],
 "metadata": {
  "kernelspec": {
   "display_name": "Python 3 (ipykernel)",
   "language": "python",
   "name": "python3"
  },
  "language_info": {
   "codemirror_mode": {
    "name": "ipython",
    "version": 3
   },
   "file_extension": ".py",
   "mimetype": "text/x-python",
   "name": "python",
   "nbconvert_exporter": "python",
   "pygments_lexer": "ipython3",
   "version": "3.9.7"
  }
 },
 "nbformat": 4,
 "nbformat_minor": 5
}
