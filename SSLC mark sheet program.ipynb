{
 "cells": [
  {
   "cell_type": "code",
   "execution_count": 19,
   "id": "ad674c62",
   "metadata": {},
   "outputs": [
    {
     "name": "stdout",
     "output_type": "stream",
     "text": [
      "Enter marks obtained in Marathi =115\n",
      "Enter marks obtained in English =85\n",
      "Enter marks obtained in Kannada =95\n",
      "Enter marks obtained in Maths   =85\n",
      "Enter marks obtained in science =88\n",
      "Enter marks obtained in soc sci =90\n",
      "Total Marks                     =625\n",
      "**********SSLC Result**********\n",
      "Marathi              = 115\n",
      "English              = 85\n",
      "Kannada              = 95\n",
      "Mathemstics          = 85\n",
      "Science              = 88\n",
      "Social Sci           = 90\n",
      "TOTAL MARKS          = 625\n",
      "TOTAL MARKS OBTAINED = 558\n",
      "PERCENTAGE OBTAINED  = 89.28\n"
     ]
    }
   ],
   "source": [
    "a=int(input(\"Enter marks obtained in Marathi =\"))\n",
    "b=int(input(\"Enter marks obtained in English =\"))\n",
    "c=int(input(\"Enter marks obtained in Kannada =\"))\n",
    "d=int(input(\"Enter marks obtained in Maths   =\"))\n",
    "e=int(input(\"Enter marks obtained in science =\"))\n",
    "f=int(input(\"Enter marks obtained in soc sci =\"))\n",
    "g=int(input(\"Total Marks                     =\"))\n",
    "h=a + b + c + d + e + f\n",
    "i=(h/g)*100\n",
    "print(\"**********SSLC Result**********\")\n",
    "print(\"Marathi              =\",a)\n",
    "print(\"English              =\",b)\n",
    "print(\"Kannada              =\",c)\n",
    "print(\"Mathemstics          =\",d)\n",
    "print(\"Science              =\",e)\n",
    "print(\"Social Sci           =\",f)\n",
    "print(\"TOTAL MARKS          =\",g)\n",
    "print(\"TOTAL MARKS OBTAINED =\",h)\n",
    "print(\"PERCENTAGE OBTAINED  =\",i)"
   ]
  },
  {
   "cell_type": "code",
   "execution_count": null,
   "id": "6952f0f5",
   "metadata": {},
   "outputs": [],
   "source": []
  }
 ],
 "metadata": {
  "kernelspec": {
   "display_name": "Python 3 (ipykernel)",
   "language": "python",
   "name": "python3"
  },
  "language_info": {
   "codemirror_mode": {
    "name": "ipython",
    "version": 3
   },
   "file_extension": ".py",
   "mimetype": "text/x-python",
   "name": "python",
   "nbconvert_exporter": "python",
   "pygments_lexer": "ipython3",
   "version": "3.9.7"
  }
 },
 "nbformat": 4,
 "nbformat_minor": 5
}
