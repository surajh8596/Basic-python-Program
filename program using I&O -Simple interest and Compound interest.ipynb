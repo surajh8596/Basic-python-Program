{
 "cells": [
  {
   "cell_type": "code",
   "execution_count": 7,
   "id": "4fce3254",
   "metadata": {},
   "outputs": [
    {
     "name": "stdout",
     "output_type": "stream",
     "text": [
      "*****Simple Interest****\n",
      "Enter principle ammount>55000\n",
      "Enter rate of interest>2\n",
      "Enter time period>1\n",
      "Simple Interest is 1100.0\n"
     ]
    }
   ],
   "source": [
    "##simple interest\n",
    "print(\"*****Simple Interest****\")\n",
    "p=int(input(\"Enter principle ammount>\"))\n",
    "r=int(input(\"Enter rate of interest>\"))\n",
    "t=int(input(\"Enter time period>\"))\n",
    "Simple_Interest=(p*t*r)/100\n",
    "print(\"Simple Interest is\",Simple_Interest)"
   ]
  },
  {
   "cell_type": "code",
   "execution_count": 18,
   "id": "575306e8",
   "metadata": {},
   "outputs": [
    {
     "name": "stdout",
     "output_type": "stream",
     "text": [
      "*****Compound Interest****\n",
      "Enter principle ammount>10000\n",
      "Enter rate of interest>5\n",
      "Enter time period>2\n",
      "Compound Inerest> 1025.0\n"
     ]
    }
   ],
   "source": [
    "##compound interest\n",
    "print(\"*****Compound Interest****\")\n",
    "p=int(input(\"Enter principle ammount>\"))\n",
    "r=int(input(\"Enter rate of interest>\"))\n",
    "n=int(input(\"Enter time period>\"))\n",
    "sum=p*(1+(r/100))**n\n",
    "Compound_Interest=(sum-p)\n",
    "print('Compound Inerest>',Compound_Interest)"
   ]
  },
  {
   "cell_type": "code",
   "execution_count": null,
   "id": "3e069191",
   "metadata": {},
   "outputs": [],
   "source": []
  }
 ],
 "metadata": {
  "kernelspec": {
   "display_name": "Python 3 (ipykernel)",
   "language": "python",
   "name": "python3"
  },
  "language_info": {
   "codemirror_mode": {
    "name": "ipython",
    "version": 3
   },
   "file_extension": ".py",
   "mimetype": "text/x-python",
   "name": "python",
   "nbconvert_exporter": "python",
   "pygments_lexer": "ipython3",
   "version": "3.9.7"
  }
 },
 "nbformat": 4,
 "nbformat_minor": 5
}
