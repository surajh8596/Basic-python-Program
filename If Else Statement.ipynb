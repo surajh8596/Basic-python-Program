{
 "cells": [
  {
   "cell_type": "code",
   "execution_count": 9,
   "id": "69393723",
   "metadata": {},
   "outputs": [
    {
     "name": "stdout",
     "output_type": "stream",
     "text": [
      "value is equal to 10\n"
     ]
    }
   ],
   "source": [
    "x=10\n",
    "if x<10:\n",
    "    print(\"value is less than 10\")\n",
    "else:\n",
    "    print(\"value is equal to 10\")"
   ]
  },
  {
   "cell_type": "code",
   "execution_count": 7,
   "id": "c96119d1",
   "metadata": {},
   "outputs": [
    {
     "name": "stdout",
     "output_type": "stream",
     "text": [
      "value is equal to 10\n"
     ]
    }
   ],
   "source": [
    "x=10\n",
    "if x<10:\n",
    "    print(\"value is less than 10\")\n",
    "if x>10:\n",
    "    print(\"value is greater than 10\")\n",
    "else:\n",
    "    print(\"value is equal to 10\")"
   ]
  },
  {
   "cell_type": "code",
   "execution_count": 8,
   "id": "e0865b88",
   "metadata": {},
   "outputs": [
    {
     "name": "stdout",
     "output_type": "stream",
     "text": [
      "value is equal to 10\n"
     ]
    }
   ],
   "source": [
    "x=10\n",
    "if x<10:\n",
    "    print(\"value is less than 10\")\n",
    "elif x>10:\n",
    "    print(\"value is greater than 10\")\n",
    "else:\n",
    "    print(\"value is equal to 10\")"
   ]
  },
  {
   "cell_type": "code",
   "execution_count": 10,
   "id": "9f91a8ef",
   "metadata": {},
   "outputs": [
    {
     "name": "stdout",
     "output_type": "stream",
     "text": [
      "value is equal to 10\n"
     ]
    }
   ],
   "source": [
    "x=10\n",
    "if x==10:\n",
    "    print(\"value is equal to 10\")\n",
    "elif x>10:\n",
    "    print(\"value is greater than 10\")\n",
    "else:\n",
    "    print(\"value is less than 10\")"
   ]
  },
  {
   "cell_type": "code",
   "execution_count": 11,
   "id": "0bf907ac",
   "metadata": {},
   "outputs": [
    {
     "name": "stdout",
     "output_type": "stream",
     "text": [
      "value is equal to 10\n",
      "value is equal to 20\n"
     ]
    }
   ],
   "source": [
    "x=10\n",
    "y=20\n",
    "if x==10:\n",
    "    print(\"value is equal to 10\")\n",
    "if y==20:\n",
    "    print(\"value is equal to 20\")\n",
    "else:\n",
    "    print(\"stop\")"
   ]
  },
  {
   "cell_type": "code",
   "execution_count": 15,
   "id": "f88192f9",
   "metadata": {},
   "outputs": [
    {
     "name": "stdout",
     "output_type": "stream",
     "text": [
      "Enter persons age=25\n",
      "Eligible to Vote\n"
     ]
    }
   ],
   "source": [
    "x=int(input(\"Enter persons age=\"))\n",
    "if x>=18:\n",
    "    print(\"Eligible to Vote\")\n",
    "else:\n",
    "    print(\"Not Eligible to Vote\")"
   ]
  },
  {
   "cell_type": "code",
   "execution_count": null,
   "id": "72988c26",
   "metadata": {},
   "outputs": [],
   "source": [
    "##operators in python\n",
    "1. assignment operator--- \"=\"\n",
    "2. arithmatic operator--- +, -, *, /, //(floor division), %(modulus, remainder),\n",
    "3. comparison operator--- <,>,<=,>=,==,!=\n",
    "4. logical operator---- and or not"
   ]
  },
  {
   "cell_type": "code",
   "execution_count": 18,
   "id": "d9546b49",
   "metadata": {},
   "outputs": [],
   "source": [
    "x=10\n",
    "y=20"
   ]
  },
  {
   "cell_type": "code",
   "execution_count": 20,
   "id": "1c316825",
   "metadata": {},
   "outputs": [
    {
     "name": "stdout",
     "output_type": "stream",
     "text": [
      "not good\n"
     ]
    }
   ],
   "source": [
    "if x==10 and y<20:\n",
    "    print(\"all good\")\n",
    "else:\n",
    "    print(\"not good\")    "
   ]
  },
  {
   "cell_type": "code",
   "execution_count": null,
   "id": "16845085",
   "metadata": {},
   "outputs": [],
   "source": [
    "## write program to calculate electricity bill\n",
    "1. first 100 units- no charges\n",
    "2. next 100 units   5/- unit\n",
    "3. after 200 units   10/- unit"
   ]
  },
  {
   "cell_type": "code",
   "execution_count": 34,
   "id": "afb5a9b6",
   "metadata": {},
   "outputs": [
    {
     "name": "stdout",
     "output_type": "stream",
     "text": [
      "Enter Total number of Unit Consumed=350\n",
      "Electricity Bill= 2000\n"
     ]
    }
   ],
   "source": [
    "units=int(input(\"Enter Total number of Unit Consumed=\"))\n",
    "if units<=100:\n",
    "    Total_amount=0\n",
    "elif units>100 and units<=200:\n",
    "    Total_amount=(units-100)*5\n",
    "elif units>200:\n",
    "    Total_amount=500+(units-200)*10\n",
    "print(\"Electricity Bill=\", Total_amount)"
   ]
  },
  {
   "cell_type": "code",
   "execution_count": 37,
   "id": "41ace109",
   "metadata": {},
   "outputs": [
    {
     "name": "stdout",
     "output_type": "stream",
     "text": [
      "Enter Total number of Unit Consumed=350\n",
      "Electricity Bill= 2000\n"
     ]
    }
   ],
   "source": [
    "units=int(input(\"Enter Total number of Unit Consumed=\"))\n",
    "if units<=100:\n",
    "    Total_amount=0\n",
    "if units>100 and units<=200:\n",
    "    Total_amount=(units-100)*5\n",
    "if units>200:\n",
    "    Total_amount=500+(units-200)*10\n",
    "print(\"Electricity Bill=\", Total_amount)"
   ]
  },
  {
   "cell_type": "code",
   "execution_count": null,
   "id": "7046a065",
   "metadata": {},
   "outputs": [],
   "source": [
    "## program to accept cost price of vehicle and depending cost price display road tax you need to pay\n",
    "1. >10 lakh 15%\n",
    "2. >50000 and<=10 lakh 10%\n",
    "3.<=50000 5%"
   ]
  },
  {
   "cell_type": "code",
   "execution_count": 49,
   "id": "46e0581c",
   "metadata": {},
   "outputs": [
    {
     "name": "stdout",
     "output_type": "stream",
     "text": [
      "Enter the vehicle price150000\n",
      "Tax to paid = 15000.0\n"
     ]
    }
   ],
   "source": [
    "x=float(input(\"Enter the vehicle price\"))\n",
    "if x>1000000:\n",
    "    tax_to_pay=(15*x)/100\n",
    "elif x>50000 and x<=1000000:\n",
    "    tax_to_pay=(10*x)/100\n",
    "elif x<=50000:\n",
    "    tax_to_pay=(5*x)/100\n",
    "print(\"Tax to paid =\",tax_to_pay)"
   ]
  },
  {
   "cell_type": "code",
   "execution_count": null,
   "id": "05529182",
   "metadata": {},
   "outputs": [],
   "source": [
    "## program to accept age of 4 people from user and then find the younger one in those"
   ]
  },
  {
   "cell_type": "code",
   "execution_count": 43,
   "id": "9be061be",
   "metadata": {},
   "outputs": [
    {
     "name": "stdout",
     "output_type": "stream",
     "text": [
      "Enter the age of 1st person= 24\n",
      "Enter the age of 2nd person= 22\n",
      "Enter the age of 3rd person= 43\n",
      "Enter the age of 4th person= 65\n",
      "younger person is=  b\n"
     ]
    }
   ],
   "source": [
    "a=int(input(\"Enter the age of 1st person= \"))\n",
    "b=int(input(\"Enter the age of 2nd person= \"))\n",
    "c=int(input(\"Enter the age of 3rd person= \"))\n",
    "d=int(input(\"Enter the age of 4th person= \"))\n",
    "if a<b and a<c and a<d:\n",
    "    print(\"younger person is=  a\")\n",
    "elif b<a and b<c and b<d:\n",
    "    print(\"younger person is=  b\")\n",
    "elif c<a and c<b and c<d:\n",
    "    print(\"younger person is=  c\")\n",
    "elif d<b and d<c and d<a:\n",
    "    print(\"younger person is=  d\")"
   ]
  },
  {
   "cell_type": "code",
   "execution_count": null,
   "id": "d9ec4431",
   "metadata": {},
   "outputs": [],
   "source": []
  }
 ],
 "metadata": {
  "kernelspec": {
   "display_name": "Python 3 (ipykernel)",
   "language": "python",
   "name": "python3"
  },
  "language_info": {
   "codemirror_mode": {
    "name": "ipython",
    "version": 3
   },
   "file_extension": ".py",
   "mimetype": "text/x-python",
   "name": "python",
   "nbconvert_exporter": "python",
   "pygments_lexer": "ipython3",
   "version": "3.9.7"
  }
 },
 "nbformat": 4,
 "nbformat_minor": 5
}
