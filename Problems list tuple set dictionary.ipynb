{
 "cells": [
  {
   "cell_type": "markdown",
   "id": "f0488f18",
   "metadata": {},
   "source": [
    "### 1. a set contains names which begins either with A or with B. write a program to seperate the names into two sets, one containing names beginining with A and other containing names begining with B."
   ]
  },
  {
   "cell_type": "code",
   "execution_count": 8,
   "id": "aa28ce4b",
   "metadata": {},
   "outputs": [
    {
     "name": "stdout",
     "output_type": "stream",
     "text": [
      "Set of names begins with A is :  {'Aman', 'Akash', 'Alamatti'}\n",
      "Set of names begins with B is :  {'Barsat', 'Bina', 'Bijapur'}\n"
     ]
    }
   ],
   "source": [
    "s={'Aman', 'Bina', 'Bijapur', 'Alamatti', 'Akash', 'Barsat'}\n",
    "a=[]\n",
    "b=[]\n",
    "for i in s:\n",
    "    i=str(i)\n",
    "    if i.startswith('A'):\n",
    "        a.append(i)\n",
    "    else:\n",
    "        b.append(i)\n",
    "print('Set of names begins with A is : ',set(a))\n",
    "print('Set of names begins with B is : ',set(b))"
   ]
  },
  {
   "cell_type": "code",
   "execution_count": null,
   "id": "3e3863b5",
   "metadata": {},
   "outputs": [],
   "source": []
  },
  {
   "cell_type": "markdown",
   "id": "c3bbd384",
   "metadata": {},
   "source": [
    "### 2. create a list of tuples. each tuple should contain an item and its price in float. write program to print each item and its price in a proper format."
   ]
  },
  {
   "cell_type": "code",
   "execution_count": 45,
   "id": "98c1eed1",
   "metadata": {},
   "outputs": [
    {
     "name": "stdout",
     "output_type": "stream",
     "text": [
      "Price of Apple is Rs/- 80.5\n",
      "Price of Banana is Rs/- 40.5\n",
      "Price of Mango is Rs/- 400.5\n",
      "Price of Papaya is Rs/- 20.5\n"
     ]
    }
   ],
   "source": [
    "l=[('Apple',80.5),('Banana',40.5),('Mango',400.5),('Papaya',20.5)]\n",
    "for i,j in enumerate(l):\n",
    "    pass\n",
    "for item,price in l:\n",
    "    print(\"Price of {} is Rs/- {}\".format(item,price))"
   ]
  },
  {
   "cell_type": "code",
   "execution_count": null,
   "id": "a6a5e52d",
   "metadata": {},
   "outputs": [],
   "source": []
  },
  {
   "cell_type": "markdown",
   "id": "9d246ea1",
   "metadata": {},
   "source": [
    "### 3. write a program that reads integers from the user and stores them in a list. your program should continue reading values until the user enters 0. then it should display all of the values entered by the user (except for the 0) in order from smallest to largest, with one value appearing on each line. use either the sort method or the sorted function to sort the list."
   ]
  },
  {
   "cell_type": "code",
   "execution_count": 56,
   "id": "701ecf21",
   "metadata": {},
   "outputs": [
    {
     "name": "stdout",
     "output_type": "stream",
     "text": [
      "Enter a number: 5\n",
      "Enter a number: 4\n",
      "Enter a number: 3\n",
      "Enter a number: 2\n",
      "Enter a number: 5\n",
      "Enter a number: 7\n",
      "Enter a number: 8\n",
      "Enter a number: 1\n",
      "Enter a number: 0\n",
      "1\n",
      "2\n",
      "3\n",
      "4\n",
      "5\n",
      "5\n",
      "7\n",
      "8\n"
     ]
    }
   ],
   "source": [
    "l=[]\n",
    "while True:\n",
    "    n=int(input(\"Enter a number: \"))\n",
    "    if n!=0:\n",
    "        l.append(n)\n",
    "        l.sort()\n",
    "    else:\n",
    "        break\n",
    "for i in l:\n",
    "    print(i)"
   ]
  },
  {
   "cell_type": "code",
   "execution_count": null,
   "id": "09bb1367",
   "metadata": {},
   "outputs": [],
   "source": []
  },
  {
   "cell_type": "markdown",
   "id": "98895b7d",
   "metadata": {},
   "source": [
    "### 4. write a program to read a list of numbers from the user and remove the two largest and two smallest values from it. display the list with the values removed, followed by the original list. your program should generate an appropriate error message if the user enters less than 5 values."
   ]
  },
  {
   "cell_type": "code",
   "execution_count": 69,
   "id": "99f7e34f",
   "metadata": {},
   "outputs": [
    {
     "name": "stdout",
     "output_type": "stream",
     "text": [
      "Enter the number of values to be entered: 5\n",
      "Enter number : 43\n",
      "Enter number : 56\n",
      "Enter number : 45\n",
      "Enter number : 64\n",
      "Enter number : 65\n",
      "My list is:  [43, 45, 56, 64, 65]\n",
      "List after removing 2 smallest and 2 largest values : [56]\n"
     ]
    }
   ],
   "source": [
    "l=[]\n",
    "count=int(input(\"Enter the number of values to be entered: \"))\n",
    "i=1\n",
    "if count>=5:\n",
    "    while i<=count:\n",
    "        n=int(input(\"Enter number : \"))\n",
    "        l.append(n)\n",
    "        l.sort()\n",
    "        i+=1\n",
    "else:\n",
    "    print(\"Enter the number of values greater than or equal to 5\")\n",
    "    \n",
    "print(\"My list is: \", l)\n",
    "\n",
    "l.remove(max(l))\n",
    "l.remove(min(l))\n",
    "l.remove(max(l))\n",
    "l.remove(min(l))\n",
    "print(\"List after removing 2 smallest and 2 largest values :\", l)"
   ]
  },
  {
   "cell_type": "code",
   "execution_count": null,
   "id": "e99e9e61",
   "metadata": {},
   "outputs": [],
   "source": []
  },
  {
   "cell_type": "markdown",
   "id": "54005d76",
   "metadata": {},
   "source": [
    "### 5. in this exercise you will create a program that reads words from the user until the user enters a black line. after the user enters black line your program should display each word entered by the user exactly one."
   ]
  },
  {
   "cell_type": "code",
   "execution_count": 73,
   "id": "8979fcd2",
   "metadata": {},
   "outputs": [
    {
     "name": "stdout",
     "output_type": "stream",
     "text": [
      "Enter a word : suraj\n",
      "Enter a word : ranjana\n",
      "Enter a word : samir\n",
      "Enter a word : raju\n",
      "Enter a word : siya\n",
      "Enter a word : -\n",
      "56\n",
      "suraj\n",
      "ranjana\n",
      "samir\n",
      "raju\n",
      "siya\n"
     ]
    }
   ],
   "source": [
    "l=[]\n",
    "while True:\n",
    "    s=input(\"Enter a word : \" )\n",
    "    if s!='-':\n",
    "        l.append(s)\n",
    "    else:\n",
    "        break\n",
    "for i in l:\n",
    "    print(i)"
   ]
  },
  {
   "cell_type": "code",
   "execution_count": null,
   "id": "9d23bdc4",
   "metadata": {},
   "outputs": [],
   "source": []
  },
  {
   "cell_type": "markdown",
   "id": "c40e3e60",
   "metadata": {},
   "source": [
    "### 6. write a program that reads numbers from the user until a 0 is entered. your program should display the average of all of the values entered by the user. then the program should display all of the below average values(if any), followed by all the above average values. an approprite label should be displayed before each list of values."
   ]
  },
  {
   "cell_type": "code",
   "execution_count": 86,
   "id": "1928b6b4",
   "metadata": {},
   "outputs": [
    {
     "name": "stdout",
     "output_type": "stream",
     "text": [
      "Enter a number: 10\n",
      "Enter a number: 20\n",
      "Enter a number: 30\n",
      "Enter a number: 40\n",
      "Enter a number: 50\n",
      "Enter a number: 0\n",
      "average is : 30.0\n",
      "Values below average are:  [10, 20]\n",
      "Values above average are:  [30, 40, 50]\n"
     ]
    }
   ],
   "source": [
    "l=[]\n",
    "while True:\n",
    "    n=int(input(\"Enter a number: \"))\n",
    "    if n!=0:\n",
    "        l.append(n)\n",
    "    else:\n",
    "        break\n",
    "\n",
    "avg=sum(l)/len(l)\n",
    "print(\"average is :\", avg)\n",
    "\n",
    "b=[]\n",
    "a=[]\n",
    "for i in l:\n",
    "    if i<avg:\n",
    "        b.append(i)\n",
    "    else:\n",
    "        a.append(i)\n",
    "print(\"Values below average are: \", b)\n",
    "print(\"Values above average are: \", a)      "
   ]
  },
  {
   "cell_type": "code",
   "execution_count": null,
   "id": "c992b9f3",
   "metadata": {},
   "outputs": [],
   "source": []
  },
  {
   "cell_type": "markdown",
   "id": "7be8537e",
   "metadata": {},
   "source": [
    "### 7. create a program that determines and display the number of unique characters in a string entered by the user. for example 'Hello World!' has 9 unique characters while ZZZ has i=only 1 unique character. use a dictionary to solve this problem."
   ]
  },
  {
   "cell_type": "code",
   "execution_count": 94,
   "id": "a84aa4a4",
   "metadata": {},
   "outputs": [
    {
     "name": "stdout",
     "output_type": "stream",
     "text": [
      "Enter a string: shahapur\n",
      "Unique characters are dict_keys(['s', 'h', 'a', 'p', 'u', 'r'])\n"
     ]
    }
   ],
   "source": [
    "s=input(\"Enter a string: \")\n",
    "d=dict.fromkeys(s)\n",
    "print(\"Unique characters are\", d.keys())"
   ]
  },
  {
   "cell_type": "code",
   "execution_count": null,
   "id": "dc0105a3",
   "metadata": {},
   "outputs": [],
   "source": []
  },
  {
   "cell_type": "markdown",
   "id": "820c9b7d",
   "metadata": {},
   "source": [
    "### 8. two words are anagrams if they contain all of the same letters, but in a different order. for example \"evil\" and \"live\" are anagrams, because each contains e, i, l, v. create a program that reads two strings from user, determines whether or not they are anagrams, and report the result."
   ]
  },
  {
   "cell_type": "code",
   "execution_count": 102,
   "id": "ec430b19",
   "metadata": {},
   "outputs": [
    {
     "name": "stdout",
     "output_type": "stream",
     "text": [
      "Enter 1st string : evil\n",
      "Enter 2nd string : live\n",
      "Words are Anagram\n"
     ]
    }
   ],
   "source": [
    "s1=input(\"Enter 1st string : \")\n",
    "s2=input(\"Enter 2nd string : \")\n",
    "if (sorted(s1) == sorted(s2)):\n",
    "    print('Words are Anagram')\n",
    "else:\n",
    "    print('Words are not Anagram')"
   ]
  },
  {
   "cell_type": "code",
   "execution_count": null,
   "id": "1bd51e1d",
   "metadata": {},
   "outputs": [],
   "source": []
  },
  {
   "cell_type": "markdown",
   "id": "6ba09891",
   "metadata": {},
   "source": [
    "### 9. an integer n is said to be perfect when the sum of all the proper divisors of n is equal to n. for example 28, is a perfect number because its proper divisors are 1, 2, 4, 7, 14 and 1+2+4+7+14=28. write a program that determines whether oor not a positive integer is perfect. your program will accept a number from the user. if the number is perfect number then your program will disply TRUE else display FALSE."
   ]
  },
  {
   "cell_type": "code",
   "execution_count": 119,
   "id": "263ece78",
   "metadata": {},
   "outputs": [
    {
     "name": "stdout",
     "output_type": "stream",
     "text": [
      "Enter the number : 28\n",
      "[1, 2, 4, 7, 14]\n",
      "TRUE\n"
     ]
    }
   ],
   "source": [
    "l=[]\n",
    "n=int(input(\"Enter the number : \"))\n",
    "for i in range(1,n//2+1):\n",
    "    if n%i==0:\n",
    "        l.append(i)\n",
    "print(l)\n",
    "if sum(l)==n:\n",
    "    print(\"TRUE\")\n",
    "else:\n",
    "    print(\"FALSE\")"
   ]
  },
  {
   "cell_type": "code",
   "execution_count": null,
   "id": "c7a2557c",
   "metadata": {},
   "outputs": [],
   "source": []
  },
  {
   "cell_type": "markdown",
   "id": "3531c879",
   "metadata": {},
   "source": [
    "### 10. write a program that finds all of the keys in a dictionary that map to a specific value. the program will take the value to search for as its input. it will display a (posiible empty) list of keys from the dictionary that map to the provided value."
   ]
  },
  {
   "cell_type": "code",
   "execution_count": 127,
   "id": "a0247199",
   "metadata": {
    "scrolled": true
   },
   "outputs": [
    {
     "name": "stdout",
     "output_type": "stream",
     "text": [
      "Enter the value which to be searched : age\n",
      "key not found\n",
      "['age']\n",
      "key not found\n",
      "key not found\n",
      "key not found\n"
     ]
    }
   ],
   "source": [
    "d={'name':'suraj', 'age':25, 'place':'Shahapur', 'job':'AE', 'status':'single'}\n",
    "k=input(\"Enter the value which to be searched : \")\n",
    "keys=[]\n",
    "for i in d.keys():\n",
    "    if i==k:\n",
    "        keys.append(i)\n",
    "        print(keys)\n",
    "    else:\n",
    "        print(\"key not found\")"
   ]
  },
  {
   "cell_type": "code",
   "execution_count": null,
   "id": "ef38c020",
   "metadata": {},
   "outputs": [],
   "source": []
  }
 ],
 "metadata": {
  "kernelspec": {
   "display_name": "Python 3 (ipykernel)",
   "language": "python",
   "name": "python3"
  },
  "language_info": {
   "codemirror_mode": {
    "name": "ipython",
    "version": 3
   },
   "file_extension": ".py",
   "mimetype": "text/x-python",
   "name": "python",
   "nbconvert_exporter": "python",
   "pygments_lexer": "ipython3",
   "version": "3.9.7"
  }
 },
 "nbformat": 4,
 "nbformat_minor": 5
}
