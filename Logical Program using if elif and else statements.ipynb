{
 "cells": [
  {
   "cell_type": "code",
   "execution_count": 1,
   "id": "aaf08f1f",
   "metadata": {},
   "outputs": [],
   "source": [
    "##Write a program to accept percentage from the user and display the grade according to the following criteria:\n",
    "  Marks                                    Grade\n",
    "         > 90                                 A\n",
    "         > 80 and <= 90                       B\n",
    "         >= 60 and <= 80                      C\n",
    "          below 60                            D"
   ]
  },
  {
   "cell_type": "code",
   "execution_count": 7,
   "id": "1e3ba0c9",
   "metadata": {},
   "outputs": [
    {
     "name": "stdout",
     "output_type": "stream",
     "text": [
      "Enter percentage in an exam =88\n",
      "Grade  = B\n"
     ]
    }
   ],
   "source": [
    "x=int(input(\"Enter percentage in an exam =\"))\n",
    "if x>90:\n",
    "    print(\"Grade  = A\")\n",
    "elif x>80 and x<=90:\n",
    "    print(\"Grade  = B\")\n",
    "elif x>=60 and x<=80:\n",
    "    print(\"Grade  = C\")\n",
    "else:\n",
    "    print(\"Grade  = D\")"
   ]
  },
  {
   "cell_type": "code",
   "execution_count": null,
   "id": "ae57cb5e",
   "metadata": {},
   "outputs": [],
   "source": [
    "## Accept any city from the user and display monument of that city.\n",
    "                  City                                 Monument\n",
    "                  Delhi                               Red Fort\n",
    "                  Agra                                Taj Mahal\n",
    "                  Jaipur                              Jal Mahal"
   ]
  },
  {
   "cell_type": "code",
   "execution_count": 31,
   "id": "66483d7f",
   "metadata": {},
   "outputs": [
    {
     "name": "stdout",
     "output_type": "stream",
     "text": [
      "Enter city name = DELHI\n",
      "City Monument is Red fort\n"
     ]
    }
   ],
   "source": [
    "x=input(\"Enter city name = \")\n",
    "if x.upper()==\"DELHI\":\n",
    "    print(\"City Monument is Red fort\")\n",
    "elif x.upper()==\"AGRA\":\n",
    "    print(\"City Monument is Taj Mahal\")\n",
    "else:\n",
    "    print(\"City Monument is Jal Mahal\")"
   ]
  },
  {
   "cell_type": "code",
   "execution_count": 38,
   "id": "9413ccd8",
   "metadata": {},
   "outputs": [
    {
     "name": "stdout",
     "output_type": "stream",
     "text": [
      "Enter name of the city = delhi\n",
      "Monument name is : Red Fort\n"
     ]
    }
   ],
   "source": [
    "city = str(input(\"Enter name of the city = \"))\n",
    "if city.lower()==\"delhi\":\n",
    "    print(\"Monument name is : Red Fort\")\n",
    "elif city.lower()==\"agra\":\n",
    "    print(\"Monument name is : Taj Mahal\")\n",
    "elif city.lower()==\"jaipur\":\n",
    "    print(\"Monument name is : Jal Mahal\")"
   ]
  },
  {
   "cell_type": "code",
   "execution_count": 35,
   "id": "22115ecf",
   "metadata": {},
   "outputs": [],
   "source": [
    "##Write a program to check whether a person is senior citizen or not"
   ]
  },
  {
   "cell_type": "code",
   "execution_count": 37,
   "id": "22233864",
   "metadata": {},
   "outputs": [
    {
     "name": "stdout",
     "output_type": "stream",
     "text": [
      "Enter persons age = 74\n",
      "person is SENIOR CITIZEN\n"
     ]
    }
   ],
   "source": [
    "age=int(input(\"Enter persons age = \"))\n",
    "if age>65:\n",
    "    print(\"person is SENIOR CITIZEN\")\n",
    "else:\n",
    "    print(\"person is not SENIOR CITIZEN\")"
   ]
  },
  {
   "cell_type": "code",
   "execution_count": 39,
   "id": "c109bca8",
   "metadata": {},
   "outputs": [],
   "source": [
    "## Accept the temperature in degree Celsius of water and check whether it is boiling or not (boiling point of water in 100 oC."
   ]
  },
  {
   "cell_type": "code",
   "execution_count": 40,
   "id": "564fa000",
   "metadata": {},
   "outputs": [
    {
     "name": "stdout",
     "output_type": "stream",
     "text": [
      "Enter temperature of the water = 105\n",
      "Temperature is above boiling point and water is boiling\n"
     ]
    }
   ],
   "source": [
    "temp=int(input(\"Enter temperature of the water = \"))\n",
    "if temp>=100:\n",
    "    print(\"Temperature is above boiling point and water is boiling\")\n",
    "else:\n",
    "    print(\"Temperature is bellow boiling point and water is not boiling\")"
   ]
  },
  {
   "cell_type": "code",
   "execution_count": 41,
   "id": "a54ef518",
   "metadata": {},
   "outputs": [],
   "source": [
    "## Accept the age of 4 people and display the oldest one."
   ]
  },
  {
   "cell_type": "code",
   "execution_count": 44,
   "id": "e45e389e",
   "metadata": {},
   "outputs": [
    {
     "name": "stdout",
     "output_type": "stream",
     "text": [
      "Enter age of person a' = 38\n",
      "Enter age of person 'b' = 56\n",
      "Enter age of person 'c' = 82\n",
      "Enter age of person 'd'= 19\n",
      "person 'c' is older\n"
     ]
    }
   ],
   "source": [
    "a=int(input(\"Enter age of person a' = \"))\n",
    "b=int(input(\"Enter age of person 'b' = \"))\n",
    "c=int(input(\"Enter age of person 'c' = \"))\n",
    "d=int(input(\"Enter age of person 'd'= \"))\n",
    "if a>b and a>c and a>d:\n",
    "    print(\"person 'a' is older \")\n",
    "elif b>a and b>c and b>d:\n",
    "    print(\"person 'b' is older\")\n",
    "elif c>a and c>b and c>d:\n",
    "    print(\"person 'c' is older\")"
   ]
  },
  {
   "cell_type": "code",
   "execution_count": null,
   "id": "36c5345c",
   "metadata": {},
   "outputs": [],
   "source": [
    "##Accept the following from the user and calculate the percentage of class attended:\n",
    "a. Total number of working days\n",
    "b. Total number of days for absent\n",
    "After calculating percentage show that, If the percentage is less than 75, than student will not be able to sit in exam."
   ]
  },
  {
   "cell_type": "code",
   "execution_count": 58,
   "id": "e68a6231",
   "metadata": {},
   "outputs": [
    {
     "name": "stdout",
     "output_type": "stream",
     "text": [
      "Enter total number of working days  = 100\n",
      "Enter total number of days absent   = 11\n",
      "Attendace percentage is 89.0\n",
      "Student will allow to attend the exam\n"
     ]
    }
   ],
   "source": [
    "a=int(input(\"Enter total number of working days  = \"))\n",
    "b=int(input(\"Enter total number of days absent   = \"))\n",
    "per=((a-b)*a)/100\n",
    "print(\"Attendace percentage is\", per)\n",
    "if per<75:\n",
    "    print(\"Student will not allow to attend the exam\")\n",
    "else:\n",
    "    print(\"Student will allow to attend the exam\")"
   ]
  },
  {
   "cell_type": "code",
   "execution_count": null,
   "id": "3d2c3c2c",
   "metadata": {},
   "outputs": [],
   "source": [
    "## Accept the percentage from the user and display the  grade according to the following criteria:\n",
    "\n",
    "    Below 25 — D\n",
    "    25 to 45 — C\n",
    "    45 to 50 — B\n",
    "    50 to 60 – B+\n",
    "    60 to 80 — A\n",
    "    Above 80 – A+"
   ]
  },
  {
   "cell_type": "code",
   "execution_count": 59,
   "id": "520a4490",
   "metadata": {},
   "outputs": [
    {
     "name": "stdout",
     "output_type": "stream",
     "text": [
      "Enter the percentage obatained in exam  = 88\n",
      "GRADE = A+\n"
     ]
    }
   ],
   "source": [
    "per=int(input(\"Enter the percentage obatained in exam  = \"))\n",
    "if per<25:\n",
    "    print(\"GRADE = D\")\n",
    "elif per>25 and per<45:\n",
    "    print(\"GRADE = C\")\n",
    "elif per>45 and per<50:\n",
    "    print(\"GRADE = B\")\n",
    "elif per>50 and per<60:\n",
    "    print(\"GRADE = B+\")\n",
    "elif per>60 and per<80:\n",
    "    print(\"GRADE = A\")\n",
    "else:\n",
    "    print(\"GRADE = A+\")"
   ]
  },
  {
   "cell_type": "code",
   "execution_count": null,
   "id": "1f94ba4b",
   "metadata": {},
   "outputs": [],
   "source": [
    "##A company decided to give bonus to employee according to following criteria:\n",
    "\n",
    "    Time period of Service                Bonus\n",
    "\n",
    "    More than 10 years                    10%\n",
    "\n",
    "    >=6 and <=10                          8%\n",
    "\n",
    "    Less than 6 years                     5%\n",
    "\n",
    "         Ask user for their salary and years of service and print the net bonus amount."
   ]
  },
  {
   "cell_type": "code",
   "execution_count": 62,
   "id": "a4124477",
   "metadata": {},
   "outputs": [
    {
     "name": "stdout",
     "output_type": "stream",
     "text": [
      "Enter employees salary  = 40000\n",
      "Enter year of service   = 7\n",
      "Net bonus Amount 3200.0\n"
     ]
    }
   ],
   "source": [
    "sal=int(input(\"Enter employees salary  = \"))\n",
    "ser=int(input(\"Enter year of service   = \"))\n",
    "if ser>10:\n",
    "    bonus_amt=(10*sal)/100\n",
    "    print(\"Net bonus Amount\",bonus_amt)\n",
    "elif ser>=6 and ser<=10:\n",
    "    bonus_amt=(8*sal)/100\n",
    "    print(\"Net bonus Amount\",bonus_amt)\n",
    "else:\n",
    "    bonus_amt=(5*sal)/100\n",
    "    print(\"Net bonus Amount\",bonus_amt)"
   ]
  },
  {
   "cell_type": "code",
   "execution_count": null,
   "id": "79aeaea3",
   "metadata": {},
   "outputs": [],
   "source": [
    "##4. Accept the marked price from the user and  calculate the Net amount as(Marked Price–Discount) to pay according to following criteria:\n",
    "\n",
    "  Marked Price          Discount\n",
    "    >10000                20%\n",
    "    >7000 and <=10000     15%\n",
    "    <=7000                10%"
   ]
  },
  {
   "cell_type": "code",
   "execution_count": 65,
   "id": "7d62b94f",
   "metadata": {
    "scrolled": true
   },
   "outputs": [
    {
     "name": "stdout",
     "output_type": "stream",
     "text": [
      "Enter the Marked price = 15000\n",
      "Net Amount  12000.0\n"
     ]
    }
   ],
   "source": [
    "mar_pri=int(input(\"Enter the Marked price = \"))\n",
    "if mar_pri>10000:\n",
    "    dis=(mar_pri*20)/100\n",
    "    net_amt=mar_pri-dis\n",
    "    print(\"Net Amount \", net_amt)\n",
    "elif mar_pri<=10000 and mar_pri>7000:\n",
    "    dis=(mar_pri*15)/100\n",
    "    net_amt=mar_pri-dis\n",
    "    print(\"Net Amount \", net_amt)\n",
    "else:\n",
    "    dis=(mar_pri*10)/100\n",
    "    net_amt=mar_pri-dis\n",
    "    print(\"Net Amount \", net_amt)"
   ]
  },
  {
   "cell_type": "code",
   "execution_count": 66,
   "id": "aad30120",
   "metadata": {},
   "outputs": [
    {
     "name": "stdout",
     "output_type": "stream",
     "text": [
      "Enter the Marked price = 15000\n",
      "Net Amount  12000.0\n"
     ]
    }
   ],
   "source": [
    "mar_pri=int(input(\"Enter the Marked price = \"))\n",
    "if mar_pri>10000:\n",
    "    dis=(mar_pri*20)/100\n",
    "elif mar_pri<=10000 and mar_pri>7000:\n",
    "    dis=(mar_pri*15)/100\n",
    "else:\n",
    "    dis=(mar_pri*10)/100\n",
    "net_amt=mar_pri-dis\n",
    "print(\"Net Amount \", net_amt)"
   ]
  },
  {
   "cell_type": "code",
   "execution_count": null,
   "id": "293450bd",
   "metadata": {},
   "outputs": [],
   "source": [
    "## Accept three sides of a triangle and check whether it is an equilateral, isosceles or scalene triangle.\n",
    "Note :\n",
    "An equilateral triangle is a triangle in which all three sides are equal.\n",
    "A scalene triangle is a triangle that has three unequal sides."
   ]
  },
  {
   "cell_type": "code",
   "execution_count": 8,
   "id": "74480a7e",
   "metadata": {},
   "outputs": [
    {
     "name": "stdout",
     "output_type": "stream",
     "text": [
      "Enter first side of the tringle  = 10\n",
      "Enter second side of the tringle = 12\n",
      "Enter third side of the tringle  = 20\n",
      "Tringle is Scalene Tringle\n"
     ]
    }
   ],
   "source": [
    "ab=int(input(\"Enter first side of the tringle  = \"))\n",
    "bc=int(input(\"Enter second side of the tringle = \"))\n",
    "ac=int(input(\"Enter third side of the tringle  = \"))\n",
    "if ab==bc and ab==ac and ac==bc:\n",
    "    print(\"Tringle is Equilateral Tringle\")\n",
    "elif ab==bc or ab==ac:\n",
    "    print(\"Tringle is Isoscale Tringle\")\n",
    "else:\n",
    "    print(\"Tringle is Scalene Tringle\")"
   ]
  },
  {
   "cell_type": "code",
   "execution_count": null,
   "id": "b698255b",
   "metadata": {},
   "outputs": [],
   "source": [
    "## Write a program to accept two numbers and mathematical operators and perform operation accordingly."
   ]
  },
  {
   "cell_type": "code",
   "execution_count": 14,
   "id": "0b2b4d92",
   "metadata": {},
   "outputs": [
    {
     "name": "stdout",
     "output_type": "stream",
     "text": [
      "Enter first number  = 118\n",
      "Enter second number = 13\n",
      "Enter operator      = /\n",
      "Result = 9.076923076923077\n"
     ]
    }
   ],
   "source": [
    "a=float(input(\"Enter first number  = \"))\n",
    "b=float(input(\"Enter second number = \"))\n",
    "c=input(\"Enter operator      = \")\n",
    "if c=='+':\n",
    "    print(\"Result =\", a+b)\n",
    "elif c=='-':\n",
    "    print(\"Result =\", a-b)\n",
    "elif c=='*':\n",
    "    print(\"Result =\", a*b)\n",
    "else:\n",
    "    print(\"Result =\", a/b)"
   ]
  },
  {
   "cell_type": "code",
   "execution_count": null,
   "id": "78afa0f9",
   "metadata": {},
   "outputs": [],
   "source": [
    "##Accept the age, sex (‘M’, ‘F’), number of days and display the wages accordingly\n",
    "\n",
    "    Age             Sex         Wage/day\n",
    "    >=18 and <30     M            700\n",
    "                     F            750\n",
    "    >=30 and <=40    M            800\n",
    "                     F            850\n",
    "If age does not fall in any range then display the following message: “Enter appropriate age”"
   ]
  },
  {
   "cell_type": "code",
   "execution_count": 18,
   "id": "c2938c74",
   "metadata": {},
   "outputs": [
    {
     "name": "stdout",
     "output_type": "stream",
     "text": [
      "Enter the age = 50\n",
      "Enter the sex = m\n",
      "Enter days    = 10\n",
      "Enter approprite age\n"
     ]
    }
   ],
   "source": [
    "age=int(input(\"Enter the age = \"))\n",
    "sex=str(input(\"Enter the sex = \"))\n",
    "day=int(input(\"Enter days    = \"))\n",
    "if age>=18 and age<30 and sex=='m':\n",
    "    wage=700*day\n",
    "    print(\"Total Wages=\", wage)\n",
    "elif age>=18 and age<30 and sex=='f':\n",
    "    wage=750*day\n",
    "    print(\"Total Wages=\", wage)\n",
    "elif age>=30 and age<=40 and sex=='m':\n",
    "    wage=800*day\n",
    "    print(\"Total Wages=\", wage)\n",
    "elif age>=30 and age<=40 and sex=='f':\n",
    "    wage=850*day\n",
    "    print(\"Total Wages=\", wage)\n",
    "else:\n",
    "    print(\"Enter approprite age\")"
   ]
  },
  {
   "cell_type": "code",
   "execution_count": 20,
   "id": "a2778935",
   "metadata": {},
   "outputs": [],
   "source": [
    "##Accept three sides of triangle and check whether the triangle is possible or not.\n",
    "(triangle is possible only when sum of any two sides is greater than 3rd side)"
   ]
  },
  {
   "cell_type": "code",
   "execution_count": 21,
   "id": "9e60faa1",
   "metadata": {
    "scrolled": true
   },
   "outputs": [
    {
     "name": "stdout",
     "output_type": "stream",
     "text": [
      "Enter base of the tringle        =  10\n",
      "Enter one side of the tringle    =  3\n",
      "Enter other side of the tringle  =5\n",
      "Tringle is possible\n"
     ]
    }
   ],
   "source": [
    "ab=int(input(\"Enter base of the tringle        =  \"))\n",
    "bc=int(input(\"Enter one side of the tringle    =  \"))\n",
    "ac=int(input(\"Enter other side of the tringle  =\"  ))\n",
    "if ab>bc+ac or bc>ab+ac or ac>bc+ab:\n",
    "    print(\"Tringle is possible\")\n",
    "else:\n",
    "    print(\"Tringle is not possible\")"
   ]
  },
  {
   "cell_type": "code",
   "execution_count": null,
   "id": "21e58b52",
   "metadata": {},
   "outputs": [],
   "source": [
    "## Accept the number of days from the user and calculate the charge for library according to following :\n",
    "\n",
    "Till five days : Rs 2/day.\n",
    "Six to ten days  : Rs 3/day.\n",
    "11 to 15 days  : Rs 4/day\n",
    "After 15 days    : Rs 5/day"
   ]
  },
  {
   "cell_type": "code",
   "execution_count": 1,
   "id": "8c2fa57f",
   "metadata": {},
   "outputs": [
    {
     "name": "stdout",
     "output_type": "stream",
     "text": [
      "Enter number of days = 14\n",
      "Total charges = 56\n"
     ]
    }
   ],
   "source": [
    "day=int(input(\"Enter number of days = \"))\n",
    "if day<=2:\n",
    "    charges=2*day\n",
    "    print(\"Total charges =\", charges)\n",
    "elif day>6 and day<10:\n",
    "    charges=3*day\n",
    "    print(\"Total charges =\", charges)\n",
    "elif day>10 and day<15:\n",
    "    charges=4*day\n",
    "    print(\"Total charges =\", charges)\n",
    "else:\n",
    "    charges=5*day\n",
    "    print(\"Total charges =\", charges)"
   ]
  },
  {
   "cell_type": "code",
   "execution_count": null,
   "id": "45b71eb8",
   "metadata": {},
   "outputs": [],
   "source": [
    "##Accept the kilometers covered and calculate the bill according to the following criteria:\n",
    "\n",
    "First 10 Km              Rs11/km\n",
    "Next 90Km               Rs 10/km\n",
    "After that               Rs9/km"
   ]
  },
  {
   "cell_type": "code",
   "execution_count": 13,
   "id": "fe0759e3",
   "metadata": {},
   "outputs": [
    {
     "name": "stdout",
     "output_type": "stream",
     "text": [
      "Enter km covered = 200\n",
      "Total Bill 1910\n"
     ]
    }
   ],
   "source": [
    "km=int(input(\"Enter km covered = \"))\n",
    "if km<=10:\n",
    "    bill=11*km\n",
    "    print(\"Total Bill\", bill)\n",
    "elif km>10 and km<=100:\n",
    "    bill=110+(km-10)*10\n",
    "    print(\"Total Bill\", bill)\n",
    "else:\n",
    "    bill=1010+(km-100)*9\n",
    "    print(\"Total Bill\", bill)"
   ]
  },
  {
   "cell_type": "code",
   "execution_count": null,
   "id": "6725ea46",
   "metadata": {},
   "outputs": [],
   "source": [
    "## Accept the marks of English, Math and Science, Social Studies Subject and display the stream allotted according to following\n",
    "\n",
    "All Subjects more than 80 marks        - Science Stream\n",
    "English >80 and Math, Science above 50 - Commerce Stream\n",
    "English > 80 and Social studies > 80   - Humanities"
   ]
  },
  {
   "cell_type": "code",
   "execution_count": 14,
   "id": "09dd0582",
   "metadata": {},
   "outputs": [
    {
     "name": "stdout",
     "output_type": "stream",
     "text": [
      "Enter marks obtained in English    =  97\n",
      "Enter marks obtained in Maths     =  87\n",
      "Enter marks obtained in science    =  79\n",
      "Enter marks obtained in social     =  99\n",
      "Allocated stream = COMMERCE\n"
     ]
    }
   ],
   "source": [
    "eng=int(input(\"Enter marks obtained in English    =  \"))\n",
    "math=int(input(\"Enter marks obtained in Maths     =  \"))\n",
    "sci=int(input(\"Enter marks obtained in science    =  \"))\n",
    "soc=int(input(\"Enter marks obtained in social     =  \"))\n",
    "if eng>80 and math>80 and sci>80 and soc>80:\n",
    "    print(\"Allocated stream = SCIENCE\")\n",
    "elif eng>80 and math>50 and sci>50:\n",
    "    print(\"Allocated stream = COMMERCE\")\n",
    "elif eng>80 and soc>80:\n",
    "    print(\"Allocated stream = HUMANITIES\")"
   ]
  },
  {
   "cell_type": "code",
   "execution_count": 1,
   "id": "0739be0a",
   "metadata": {},
   "outputs": [],
   "source": [
    "##Write a program to check whether an years is leap year or not."
   ]
  },
  {
   "cell_type": "code",
   "execution_count": 4,
   "id": "cb13c1da",
   "metadata": {},
   "outputs": [
    {
     "name": "stdout",
     "output_type": "stream",
     "text": [
      "Enter year = 2022\n",
      "Entered year is not Leap Year\n"
     ]
    }
   ],
   "source": [
    "year=int(input(\"Enter year = \"))\n",
    "if year%4==0:\n",
    "    print(\"Entered year is Leap Year\")\n",
    "else:\n",
    "    print(\"Entered year is not Leap Year\")"
   ]
  }
 ],
 "metadata": {
  "kernelspec": {
   "display_name": "Python 3 (ipykernel)",
   "language": "python",
   "name": "python3"
  },
  "language_info": {
   "codemirror_mode": {
    "name": "ipython",
    "version": 3
   },
   "file_extension": ".py",
   "mimetype": "text/x-python",
   "name": "python",
   "nbconvert_exporter": "python",
   "pygments_lexer": "ipython3",
   "version": "3.9.7"
  }
 },
 "nbformat": 4,
 "nbformat_minor": 5
}
