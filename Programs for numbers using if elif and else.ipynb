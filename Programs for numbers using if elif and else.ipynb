{
 "cells": [
  {
   "cell_type": "code",
   "execution_count": null,
   "id": "94f894e1",
   "metadata": {},
   "outputs": [],
   "source": [
    "##Write a program to check whether a number entered by user is even or odd."
   ]
  },
  {
   "cell_type": "code",
   "execution_count": 2,
   "id": "b7291132",
   "metadata": {},
   "outputs": [
    {
     "name": "stdout",
     "output_type": "stream",
     "text": [
      "Enter a number = 123\n",
      "Entered number is ODD\n"
     ]
    }
   ],
   "source": [
    "x=int(input(\"Enter a number = \"))\n",
    "if x%2==0:\n",
    "    print(\"Entered number is EVEN\")\n",
    "else:\n",
    "    print(\"Entered number is ODD\")"
   ]
  },
  {
   "cell_type": "code",
   "execution_count": 3,
   "id": "6b240ec6",
   "metadata": {},
   "outputs": [],
   "source": [
    "##Write a program to check whether a number is divisible by 7 or not"
   ]
  },
  {
   "cell_type": "code",
   "execution_count": 6,
   "id": "e0d4a3bd",
   "metadata": {},
   "outputs": [
    {
     "name": "stdout",
     "output_type": "stream",
     "text": [
      "Enter a number = 98\n",
      "Entered number is divisible by 7\n"
     ]
    }
   ],
   "source": [
    "x=int(input(\"Enter a number = \"))\n",
    "if x%7==0:\n",
    "    print(\"Entered number is divisible by 7\")\n",
    "else:\n",
    "    print(\"Entered number is not divisible by 7\")"
   ]
  },
  {
   "cell_type": "code",
   "execution_count": 7,
   "id": "7345bd57",
   "metadata": {},
   "outputs": [],
   "source": [
    "## Write a program to display \"Hello\" if a number entered by user is a multiple of five, otherwise print \"Bye\""
   ]
  },
  {
   "cell_type": "code",
   "execution_count": 9,
   "id": "9e1d9856",
   "metadata": {},
   "outputs": [
    {
     "name": "stdout",
     "output_type": "stream",
     "text": [
      "Enter a number = 505\n",
      "HELLO\n"
     ]
    }
   ],
   "source": [
    "x=int(input(\"Enter a number = \"))\n",
    "if x%5==0:\n",
    "    print(\"HELLO\")\n",
    "else:\n",
    "    print(\"BYE\")"
   ]
  },
  {
   "cell_type": "code",
   "execution_count": null,
   "id": "b252644e",
   "metadata": {},
   "outputs": [],
   "source": [
    "## Write a program to display the last digit of a number.\n",
    "(hint : any number % 10 will return the last digit)"
   ]
  },
  {
   "cell_type": "code",
   "execution_count": 13,
   "id": "70b7bf97",
   "metadata": {},
   "outputs": [
    {
     "name": "stdout",
     "output_type": "stream",
     "text": [
      "Enter a number = 98786536\n",
      "Last Digit= 6\n"
     ]
    }
   ],
   "source": [
    "x=int(input(\"Enter a number = \"))\n",
    "if x>=10:\n",
    "    ld=x%10\n",
    "    print(\"Last Digit=\", ld)\n",
    "else:\n",
    "    print(\"Enter approprite number\")"
   ]
  },
  {
   "cell_type": "code",
   "execution_count": 14,
   "id": "7458682b",
   "metadata": {},
   "outputs": [],
   "source": [
    "##Write a program to check whether the last digit of a number( entered by user ) is divisible by 3 or not."
   ]
  },
  {
   "cell_type": "code",
   "execution_count": 35,
   "id": "5b36430b",
   "metadata": {},
   "outputs": [
    {
     "name": "stdout",
     "output_type": "stream",
     "text": [
      "Enter a number = 102\n",
      "Last digit is not divisible by 3 \n"
     ]
    }
   ],
   "source": [
    "x=int(input(\"Enter a number = \"))\n",
    "ld=x%10\n",
    "if ld%3==0:\n",
    "     print(\"Last digit is divisible by 3 \")\n",
    "else:\n",
    "     print(\"Last digit is not divisible by 3 \")"
   ]
  },
  {
   "cell_type": "code",
   "execution_count": 38,
   "id": "a4899378",
   "metadata": {},
   "outputs": [],
   "source": [
    "## Write a program to accept a number from 1 to 7 and display the name of the day like 1 for Sunday , 2 for Monday and so on."
   ]
  },
  {
   "cell_type": "code",
   "execution_count": 41,
   "id": "d1b3d5a6",
   "metadata": {},
   "outputs": [
    {
     "name": "stdout",
     "output_type": "stream",
     "text": [
      "Enter any one number from 1 to 7 = 4\n",
      "WEDNESDAY\n"
     ]
    }
   ],
   "source": [
    "x=int(input(\"Enter any one number from 1 to 7 = \"))\n",
    "if x==1:\n",
    "    print(\"SUNDAY\")\n",
    "elif x==2:\n",
    "    print(\"MONDAY\")\n",
    "elif x==3:\n",
    "    print(\"TUESDAY\")\n",
    "elif x==4:\n",
    "    print(\"WEDNESDAY\")\n",
    "elif x==5:\n",
    "    print(\"THURSDAY\")\n",
    "elif x==6:\n",
    "    print(\"FRIDAY\")\n",
    "else:\n",
    "    print(\"SATURDAY\")"
   ]
  },
  {
   "cell_type": "code",
   "execution_count": 40,
   "id": "71cb1033",
   "metadata": {},
   "outputs": [],
   "source": [
    "## Write a program to accept a number from 1 to 12 and display name of the month and days in that month like 1 for January and number of days 31 and so on"
   ]
  },
  {
   "cell_type": "code",
   "execution_count": 43,
   "id": "09a7a881",
   "metadata": {},
   "outputs": [
    {
     "name": "stdout",
     "output_type": "stream",
     "text": [
      "Enter any one number from 1 to 12  = 5\n",
      "MAY DAYS=31\n"
     ]
    }
   ],
   "source": [
    "x=int(input(\"Enter any one number from 1 to 12  = \"))\n",
    "if x==1:\n",
    "    print(\"JANUARY DAYS=31\")\n",
    "elif x==2:\n",
    "    print(\"FEBRUARY DAYS=28/29\")\n",
    "elif x==3:\n",
    "    print(\"MARCH DAYS=31\")\n",
    "elif x==4:\n",
    "    print(\"APRIL DAYS=30\")\n",
    "elif x==5:\n",
    "    print(\"MAY DAYS=31\")\n",
    "elif x==6:\n",
    "    print(\"JUNE DAYS=30\")\n",
    "elif x==7:\n",
    "    print(\"JULY DAYS=31\")\n",
    "elif x==8:\n",
    "    print(\"AUGUST DAYS=31\")\n",
    "elif x==9:\n",
    "    print(\"SEPTEMBER DAYS=30\")\n",
    "elif x==10:\n",
    "    print(\"OCTOBER DAYS=31\")\n",
    "elif x==11:\n",
    "    print(\"NOVEMBER DAYS=30\")\n",
    "else:\n",
    "    print(\"DECEMBER DAYS=31\")"
   ]
  },
  {
   "cell_type": "code",
   "execution_count": 44,
   "id": "693aaeb4",
   "metadata": {},
   "outputs": [],
   "source": [
    "##Write a program to check whether a number (accepted from user) is positive or negative"
   ]
  },
  {
   "cell_type": "code",
   "execution_count": 46,
   "id": "1856d4f5",
   "metadata": {},
   "outputs": [
    {
     "name": "stdout",
     "output_type": "stream",
     "text": [
      "Enter a number = -0.2\n",
      "Number is Negative\n"
     ]
    }
   ],
   "source": [
    "x=float(input(\"Enter a number = \"))\n",
    "if x<0:\n",
    "    print(\"Number is Negative\")\n",
    "else:\n",
    "    print(\"Number is Positive\")"
   ]
  },
  {
   "cell_type": "code",
   "execution_count": 49,
   "id": "b968b403",
   "metadata": {},
   "outputs": [],
   "source": [
    "##Write a program to check a character is vowel or not"
   ]
  },
  {
   "cell_type": "code",
   "execution_count": 52,
   "id": "78a459c1",
   "metadata": {},
   "outputs": [
    {
     "name": "stdout",
     "output_type": "stream",
     "text": [
      "Enter a alphabet = h\n",
      "Alphabet is consonant\n"
     ]
    }
   ],
   "source": [
    "char=str(input(\"Enter a alphabet = \"))\n",
    "if char=='a' or char=='e' or char=='i' or char=='o' or char=='u':\n",
    "    print(\"Alphabet is VOWEL\")\n",
    "else:\n",
    "    print(\"Alphabet is consonant\")"
   ]
  },
  {
   "cell_type": "code",
   "execution_count": 54,
   "id": "07aefcbd",
   "metadata": {},
   "outputs": [
    {
     "name": "stdout",
     "output_type": "stream",
     "text": [
      "Enter any characterh\n",
      "Entered character is not vowel\n"
     ]
    }
   ],
   "source": [
    "ch=input(\"Enter any character\")\n",
    "vow=\"aeiouAEIOU\"\n",
    "if ch in vow:\n",
    "     print(\"Entered character is vowel\")\n",
    "else:\n",
    "     print(\"Entered character is not vowel\")"
   ]
  },
  {
   "cell_type": "code",
   "execution_count": 55,
   "id": "59bbfe7f",
   "metadata": {},
   "outputs": [],
   "source": [
    "##Accept three numbers from the user and display the second largest number."
   ]
  },
  {
   "cell_type": "code",
   "execution_count": 59,
   "id": "ceb0e31c",
   "metadata": {
    "scrolled": true
   },
   "outputs": [
    {
     "name": "stdout",
     "output_type": "stream",
     "text": [
      "Enter 1st number = 100\n",
      "Enter 2nd number = 200\n",
      "Enter 3rd number = 150\n",
      "Second Largest number c=  150\n"
     ]
    }
   ],
   "source": [
    "a=int(input(\"Enter 1st number = \"))\n",
    "b=int(input(\"Enter 2nd number = \"))\n",
    "c=int(input(\"Enter 3rd number = \"))\n",
    "if a>b and a<c:\n",
    "    a\n",
    "    print(\"Second Largest number a= \" ,a)\n",
    "elif b>a and b<c:\n",
    "    b\n",
    "    print(\"Second Largest number b= \" ,b)\n",
    "else:\n",
    "    c\n",
    "    print(\"Second Largest number c= \" ,c)"
   ]
  }
 ],
 "metadata": {
  "kernelspec": {
   "display_name": "Python 3 (ipykernel)",
   "language": "python",
   "name": "python3"
  },
  "language_info": {
   "codemirror_mode": {
    "name": "ipython",
    "version": 3
   },
   "file_extension": ".py",
   "mimetype": "text/x-python",
   "name": "python",
   "nbconvert_exporter": "python",
   "pygments_lexer": "ipython3",
   "version": "3.9.7"
  }
 },
 "nbformat": 4,
 "nbformat_minor": 5
}
